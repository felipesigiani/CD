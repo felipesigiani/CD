{
 "cells": [
  {
   "cell_type": "markdown",
   "metadata": {},
   "source": [
    "# MiniProjeto2#\n",
    "\n",
    "## Felipe Rocha Sigiani, João Victor Rodrigues e José Fernando de Melo Cruz##\n",
    "\n",
    "## turma: 2C ##"
   ]
  },
  {
   "cell_type": "markdown",
   "metadata": {},
   "source": [
    "# Primeira Parte\n",
    "\n"
   ]
  },
  {
   "cell_type": "markdown",
   "metadata": {},
   "source": [
    "Construindo valores da população: "
   ]
  },
  {
   "cell_type": "code",
   "execution_count": 1,
   "metadata": {
    "collapsed": false
   },
   "outputs": [],
   "source": [
    "import numpy as np\n",
    "import pandas as pd\n",
    "from scipy.stats import alpha\n",
    "import matplotlib.pyplot as plt\n",
    "from scipy import stats\n",
    "%matplotlib inline"
   ]
  },
  {
   "cell_type": "code",
   "execution_count": 2,
   "metadata": {
    "collapsed": false
   },
   "outputs": [],
   "source": [
    "dados = stats.alpha.rvs( a=100 ,size=100000)\n",
    "mu = np.mean(dados)\n",
    "sigma = np.var(dados)**0.5\n",
    "k = pd.Series(dados)"
   ]
  },
  {
   "cell_type": "code",
   "execution_count": 3,
   "metadata": {
    "collapsed": true
   },
   "outputs": [
    {
     "name": "stdout",
     "output_type": "stream",
     "text": [
      "0        0.009920\n",
      "1        0.009932\n",
      "2        0.010198\n",
      "3        0.009929\n",
      "4        0.009932\n",
      "5        0.009859\n",
      "6        0.009964\n",
      "7        0.009891\n",
      "8        0.010032\n",
      "9        0.009953\n",
      "10       0.010005\n",
      "11       0.009903\n",
      "12       0.010089\n",
      "13       0.009921\n",
      "14       0.010122\n",
      "15       0.010315\n",
      "16       0.009855\n",
      "17       0.010082\n",
      "18       0.009903\n",
      "19       0.010052\n",
      "20       0.009922\n",
      "21       0.010177\n",
      "22       0.010043\n",
      "23       0.010038\n",
      "24       0.009924\n",
      "25       0.009941\n",
      "26       0.009930\n",
      "27       0.009952\n",
      "28       0.009949\n",
      "29       0.010114\n",
      "           ...   \n",
      "99970    0.010076\n",
      "99971    0.009918\n",
      "99972    0.009989\n",
      "99973    0.009958\n",
      "99974    0.010005\n",
      "99975    0.009988\n",
      "99976    0.010002\n",
      "99977    0.010123\n",
      "99978    0.009778\n",
      "99979    0.010097\n",
      "99980    0.009903\n",
      "99981    0.009918\n",
      "99982    0.010003\n",
      "99983    0.009879\n",
      "99984    0.010035\n",
      "99985    0.009924\n",
      "99986    0.009905\n",
      "99987    0.010036\n",
      "99988    0.009976\n",
      "99989    0.009764\n",
      "99990    0.009907\n",
      "99991    0.009883\n",
      "99992    0.009941\n",
      "99993    0.009962\n",
      "99994    0.010087\n",
      "99995    0.010017\n",
      "99996    0.010129\n",
      "99997    0.009877\n",
      "99998    0.010157\n",
      "99999    0.009902\n",
      "dtype: float64\n"
     ]
    }
   ],
   "source": [
    "print(k)"
   ]
  },
  {
   "cell_type": "code",
   "execution_count": 4,
   "metadata": {
    "collapsed": false
   },
   "outputs": [
    {
     "data": {
      "text/plain": [
       "count    100000.000000\n",
       "mean          0.010001\n",
       "std           0.000100\n",
       "min           0.009555\n",
       "25%           0.009932\n",
       "50%           0.009999\n",
       "75%           0.010068\n",
       "max           0.010507\n",
       "dtype: float64"
      ]
     },
     "execution_count": 4,
     "metadata": {},
     "output_type": "execute_result"
    }
   ],
   "source": [
    "k.describe()"
   ]
  },
  {
   "cell_type": "code",
   "execution_count": 5,
   "metadata": {
    "collapsed": false
   },
   "outputs": [
    {
     "data": {
      "text/plain": [
       "(array([  5.00000000e+00,   1.20000000e+01,   7.70000000e+01,\n",
       "          3.43000000e+02,   1.24600000e+03,   3.53900000e+03,\n",
       "          7.54700000e+03,   1.31630000e+04,   1.75150000e+04,\n",
       "          1.86900000e+04,   1.60310000e+04,   1.10830000e+04,\n",
       "          6.33300000e+03,   2.95900000e+03,   1.03500000e+03,\n",
       "          3.03000000e+02,   9.10000000e+01,   1.90000000e+01,\n",
       "          7.00000000e+00,   2.00000000e+00]),\n",
       " array([ 0.00955456,  0.00960215,  0.00964975,  0.00969735,  0.00974495,\n",
       "         0.00979255,  0.00984015,  0.00988775,  0.00993534,  0.00998294,\n",
       "         0.01003054,  0.01007814,  0.01012574,  0.01017334,  0.01022093,\n",
       "         0.01026853,  0.01031613,  0.01036373,  0.01041133,  0.01045893,\n",
       "         0.01050653]),\n",
       " <a list of 20 Patch objects>)"
      ]
     },
     "execution_count": 5,
     "metadata": {},
     "output_type": "execute_result"
    },
    {
     "data": {
      "image/png": "[encoded data removed]",
      "text/plain": [
       "<matplotlib.figure.Figure at 0x2bbc2ef2358>"
      ]
     },
     "metadata": {},
     "output_type": "display_data"
    }
   ],
   "source": [
    "plt.hist(k, bins = 20)"
   ]
  },
  {
   "cell_type": "markdown",
   "metadata": {},
   "source": [
    "2.Construindo distribuição de média amostral:"
   ]
  },
  {
   "cell_type": "markdown",
   "metadata": {},
   "source": [
    "# n = 2#"
   ]
  },
  {
   "cell_type": "code",
   "execution_count": 7,
   "metadata": {
    "collapsed": false
   },
   "outputs": [],
   "source": [
    "media2 = []\n",
    "for i in range(10000):\n",
    "    media2.append(np.mean(np.random.choice(k,size = 2)))\n",
    "    \n",
    "\n",
    "    \n"
   ]
  },
  {
   "cell_type": "code",
   "execution_count": 8,
   "metadata": {
    "collapsed": false
   },
   "outputs": [],
   "source": [
    "x_barra2 = pd.Series(media2)"
   ]
  },
  {
   "cell_type": "code",
   "execution_count": 9,
   "metadata": {
    "collapsed": false
   },
   "outputs": [
    {
     "data": {
      "text/plain": [
       "0.010001284935001853"
      ]
     },
     "execution_count": 9,
     "metadata": {},
     "output_type": "execute_result"
    }
   ],
   "source": [
    "x_barra2.mean()"
   ]
  },
  {
   "cell_type": "code",
   "execution_count": 10,
   "metadata": {
    "collapsed": false
   },
   "outputs": [
    {
     "data": {
      "text/plain": [
       "4.766501916744782e-09"
      ]
     },
     "execution_count": 10,
     "metadata": {},
     "output_type": "execute_result"
    }
   ],
   "source": [
    "x_barra2.var()"
   ]
  },
  {
   "cell_type": "code",
   "execution_count": 19,
   "metadata": {
    "collapsed": false
   },
   "outputs": [
    {
     "data": {
      "text/plain": [
       "(array([   58.65828065,   117.31656129,   367.59189204,   711.72047183,\n",
       "         1489.92032839,  2506.66385958,  3613.35008776,  5255.78194583,\n",
       "         5455.22010003,  5858.00696046,  4868.63729357,  3648.54505615,\n",
       "         2510.57441163,  1396.06707936,   723.45212796,   281.5597471 ,\n",
       "          160.33263376,    46.92662452,    23.46331226,    11.73165613]),\n",
       " array([ 0.00977148,  0.00979705,  0.00982262,  0.0098482 ,  0.00987377,\n",
       "         0.00989934,  0.00992491,  0.00995048,  0.00997606,  0.01000163,\n",
       "         0.0100272 ,  0.01005277,  0.01007834,  0.01010391,  0.01012949,\n",
       "         0.01015506,  0.01018063,  0.0102062 ,  0.01023177,  0.01025735,\n",
       "         0.01028292]),\n",
       " <a list of 20 Patch objects>)"
      ]
     },
     "execution_count": 19,
     "metadata": {},
     "output_type": "execute_result"
    },
    {
     "data": {
      "image/png": "[encoded data removed]",
      "text/plain": [
       "<matplotlib.figure.Figure at 0x2bbc4ba4550>"
      ]
     },
     "metadata": {},
     "output_type": "display_data"
    }
   ],
   "source": [
    "plt.hist(x_barra2, bins = 20, normed = 1)"
   ]
  },
  {
   "cell_type": "markdown",
   "metadata": {},
   "source": [
    "parte 3"
   ]
  },
  {
   "cell_type": "markdown",
   "metadata": {},
   "source": [
    "# n = 4#"
   ]
  },
  {
   "cell_type": "code",
   "execution_count": 13,
   "metadata": {
    "collapsed": false
   },
   "outputs": [],
   "source": [
    "media4 = []\n",
    "for i in range(10000):\n",
    "    media4.append(np.mean(np.random.choice(k,size = 4)))"
   ]
  },
  {
   "cell_type": "code",
   "execution_count": 14,
   "metadata": {
    "collapsed": true
   },
   "outputs": [],
   "source": [
    "x_barra4 = pd.Series(media4)"
   ]
  },
  {
   "cell_type": "code",
   "execution_count": 15,
   "metadata": {
    "collapsed": false
   },
   "outputs": [
    {
     "data": {
      "text/plain": [
       "0.010000668139531665"
      ]
     },
     "execution_count": 15,
     "metadata": {},
     "output_type": "execute_result"
    }
   ],
   "source": [
    "x_barra4.mean()"
   ]
  },
  {
   "cell_type": "code",
   "execution_count": 16,
   "metadata": {
    "collapsed": false
   },
   "outputs": [
    {
     "data": {
      "text/plain": [
       "2.5206343168326473e-09"
      ]
     },
     "execution_count": 16,
     "metadata": {},
     "output_type": "execute_result"
    }
   ],
   "source": [
    "x_barra4.var()"
   ]
  },
  {
   "cell_type": "code",
   "execution_count": 18,
   "metadata": {
    "collapsed": false
   },
   "outputs": [
    {
     "data": {
      "text/plain": [
       "(array([   88.19451458,   194.02793207,   611.48196774,  1005.41746619,\n",
       "         1863.84407476,  3016.25239858,  4791.90195877,  6449.95883284,\n",
       "         7655.28386541,  8178.57131858,  7284.86690418,  5979.58808842,\n",
       "         4786.02232446,  3010.37276428,  1899.12188059,  1170.04722674,\n",
       "          505.64855025,   188.14829777,    76.43524597,    41.15744014]),\n",
       " array([ 0.0098394 ,  0.00985641,  0.00987341,  0.00989042,  0.00990743,\n",
       "         0.00992444,  0.00994145,  0.00995845,  0.00997546,  0.00999247,\n",
       "         0.01000948,  0.01002648,  0.01004349,  0.0100605 ,  0.01007751,\n",
       "         0.01009452,  0.01011152,  0.01012853,  0.01014554,  0.01016255,\n",
       "         0.01017956]),\n",
       " <a list of 20 Patch objects>)"
      ]
     },
     "execution_count": 18,
     "metadata": {},
     "output_type": "execute_result"
    },
    {
     "data": {
      "image/png": "[encoded data removed]",
      "text/plain": [
       "<matplotlib.figure.Figure at 0x2bbc4b1acc0>"
      ]
     },
     "metadata": {},
     "output_type": "display_data"
    }
   ],
   "source": [
    "plt.hist(x_barra4, bins = 20, normed = 1)"
   ]
  },
  {
   "cell_type": "markdown",
   "metadata": {},
   "source": [
    "# n = 20#"
   ]
  },
  {
   "cell_type": "code",
   "execution_count": 20,
   "metadata": {
    "collapsed": true
   },
   "outputs": [],
   "source": [
    "media20 = []\n",
    "for i in range(10000):\n",
    "    media20.append(np.mean(np.random.choice(k,size = 20)))"
   ]
  },
  {
   "cell_type": "code",
   "execution_count": 21,
   "metadata": {
    "collapsed": true
   },
   "outputs": [],
   "source": [
    "x_barra20 = pd.Series(media20)"
   ]
  },
  {
   "cell_type": "code",
   "execution_count": 22,
   "metadata": {
    "collapsed": false
   },
   "outputs": [
    {
     "data": {
      "text/plain": [
       "0.010000802583613204"
      ]
     },
     "execution_count": 22,
     "metadata": {},
     "output_type": "execute_result"
    }
   ],
   "source": [
    "x_barra20.mean()"
   ]
  },
  {
   "cell_type": "code",
   "execution_count": 23,
   "metadata": {
    "collapsed": false
   },
   "outputs": [
    {
     "data": {
      "text/plain": [
       "5.044158563663967e-10"
      ]
     },
     "execution_count": 23,
     "metadata": {},
     "output_type": "execute_result"
    }
   ],
   "source": [
    "x_barra20.var()"
   ]
  },
  {
   "cell_type": "code",
   "execution_count": 24,
   "metadata": {
    "collapsed": false
   },
   "outputs": [
    {
     "data": {
      "text/plain": [
       "(array([  1.05603414e+01,   0.00000000e+00,   3.16810242e+01,\n",
       "          6.33620484e+01,   2.11206828e+02,   8.76508336e+02,\n",
       "          1.97478384e+03,   4.60430885e+03,   8.36379039e+03,\n",
       "          1.27568924e+04,   1.66853394e+04,   1.77308132e+04,\n",
       "          1.56821070e+04,   1.16691772e+04,   7.75129059e+03,\n",
       "          4.30861929e+03,   1.86918043e+03,   6.96982533e+02,\n",
       "          2.64008535e+02,   5.28017070e+01]),\n",
       " array([ 0.00989262,  0.00990209,  0.00991156,  0.00992103,  0.00993049,\n",
       "         0.00993996,  0.00994943,  0.0099589 ,  0.00996837,  0.00997784,\n",
       "         0.00998731,  0.00999678,  0.01000625,  0.01001572,  0.01002519,\n",
       "         0.01003466,  0.01004413,  0.0100536 ,  0.01006307,  0.01007254,\n",
       "         0.01008201]),\n",
       " <a list of 20 Patch objects>)"
      ]
     },
     "execution_count": 24,
     "metadata": {},
     "output_type": "execute_result"
    },
    {
     "data": {
      "image/png": "[encoded data removed]",
      "text/plain": [
       "<matplotlib.figure.Figure at 0x2bbc4be4400>"
      ]
     },
     "metadata": {},
     "output_type": "display_data"
    }
   ],
   "source": [
    "plt.hist(x_barra20, bins = 20, normed = 1)"
   ]
  },
  {
   "cell_type": "markdown",
   "metadata": {},
   "source": [
    "# n = 50#"
   ]
  },
  {
   "cell_type": "code",
   "execution_count": 25,
   "metadata": {
    "collapsed": true
   },
   "outputs": [],
   "source": [
    "media50 = []\n",
    "for i in range(10000):\n",
    "    media50.append(np.mean(np.random.choice(k,size = 50)))"
   ]
  },
  {
   "cell_type": "code",
   "execution_count": 26,
   "metadata": {
    "collapsed": true
   },
   "outputs": [],
   "source": [
    "x_barra50 = pd.Series(media50)"
   ]
  },
  {
   "cell_type": "code",
   "execution_count": 27,
   "metadata": {
    "collapsed": false
   },
   "outputs": [
    {
     "data": {
      "text/plain": [
       "0.01000071215918604"
      ]
     },
     "execution_count": 27,
     "metadata": {},
     "output_type": "execute_result"
    }
   ],
   "source": [
    "x_barra50.mean()"
   ]
  },
  {
   "cell_type": "code",
   "execution_count": 28,
   "metadata": {
    "collapsed": false
   },
   "outputs": [
    {
     "data": {
      "text/plain": [
       "2.002776191410656e-10"
      ]
     },
     "execution_count": 28,
     "metadata": {},
     "output_type": "execute_result"
    }
   ],
   "source": [
    "x_barra50.var()"
   ]
  },
  {
   "cell_type": "code",
   "execution_count": 29,
   "metadata": {
    "collapsed": false
   },
   "outputs": [
    {
     "data": {
      "text/plain": [
       "(array([  1.63458455e+02,   5.81185619e+02,   1.76171891e+03,\n",
       "          4.05013728e+03,   7.75519560e+03,   1.30403523e+04,\n",
       "          1.85616157e+04,   2.61533528e+04,   2.86052297e+04,\n",
       "          2.58445980e+04,   2.15220299e+04,   1.61823871e+04,\n",
       "          8.75410838e+03,   5.23067057e+03,   2.19760812e+03,\n",
       "          9.08102529e+02,   1.81620506e+02,   9.08102529e+01,\n",
       "          1.81620506e+01,   1.81620506e+01]),\n",
       " array([ 0.00995299,  0.0099585 ,  0.009964  ,  0.00996951,  0.00997501,\n",
       "         0.00998052,  0.00998603,  0.00999153,  0.00999704,  0.01000254,\n",
       "         0.01000805,  0.01001356,  0.01001906,  0.01002457,  0.01003007,\n",
       "         0.01003558,  0.01004109,  0.01004659,  0.0100521 ,  0.0100576 ,\n",
       "         0.01006311]),\n",
       " <a list of 20 Patch objects>)"
      ]
     },
     "execution_count": 29,
     "metadata": {},
     "output_type": "execute_result"
    },
    {
     "data": {
      "image/png": "[encoded data removed]",
      "text/plain": [
       "<matplotlib.figure.Figure at 0x2bbc4d6a7b8>"
      ]
     },
     "metadata": {},
     "output_type": "display_data"
    }
   ],
   "source": [
    "plt.hist(x_barra50, bins = 20, normed = 1)"
   ]
  },
  {
   "cell_type": "markdown",
   "metadata": {},
   "source": [
    "parte 4"
   ]
  },
  {
   "cell_type": "markdown",
   "metadata": {},
   "source": [
    "# conclusão:#\n",
    "\n",
    "A partir dos resultados acima, notamos que a cada vez que a quantidade de elementos amostrais(n) aumenta, o gráfico se aproxima cada vez mais de uma distribuição normal \"perfeita\", sendo assim a média também se aproxima do valor teórico(mi). Para uma situação real esse tipo de aproximação de mi, acarreta numa confiabilidade de resultados, já que estes estão se aproximando cada vez mais de resultados teoricamente corretos."
   ]
  },
  {
   "cell_type": "code",
   "execution_count": 31,
   "metadata": {
    "collapsed": false
   },
   "outputs": [],
   "source": [
    "MX1 = []\n",
    "MX9 = []\n",
    "\n",
    "for i in range(10000): \n",
    "    Media50 = []\n",
    "    \n",
    "    for u in range(50):  \n",
    "        X =  np.random.choice(x_barra50)\n",
    "        Media50.append(X)  \n",
    "        \n",
    "        if u == 0:\n",
    "            MX1.append(X)\n",
    "        if u == 8:\n",
    "            MX9.append(X)"
   ]
  },
  {
   "cell_type": "code",
   "execution_count": 32,
   "metadata": {
    "collapsed": false
   },
   "outputs": [
    {
     "data": {
      "image/png": "[encoded data removed]",
      "text/plain": [
       "<matplotlib.figure.Figure at 0x2bbc4d879e8>"
      ]
     },
     "metadata": {},
     "output_type": "display_data"
    }
   ],
   "source": [
    "plt.hist(MX1, bins = 20, normed = 1)\n",
    "plt.show()"
   ]
  },
  {
   "cell_type": "code",
   "execution_count": 33,
   "metadata": {
    "collapsed": false
   },
   "outputs": [
    {
     "data": {
      "image/png": "[encoded data removed]",
      "text/plain": [
       "<matplotlib.figure.Figure at 0x2bbc4f925c0>"
      ]
     },
     "metadata": {},
     "output_type": "display_data"
    }
   ],
   "source": [
    "plt.hist(MX9, bins = 20, normed = 1)\n",
    "plt.show()"
   ]
  },
  {
   "cell_type": "code",
   "execution_count": 34,
   "metadata": {
    "collapsed": false,
    "scrolled": true
   },
   "outputs": [
    {
     "name": "stdout",
     "output_type": "stream",
     "text": [
      "Correlação entre X1 e X9: -0.0082450988081\n"
     ]
    }
   ],
   "source": [
    "print(\"Correlação entre X1 e X9:\", np.corrcoef(MX1, MX9)[0,1])"
   ]
  },
  {
   "cell_type": "markdown",
   "metadata": {},
   "source": [
    "Pelo fato da correlação, ser negativa e muito proxima de zero, indica uma associação muito fraca entre os dois valores, comprovando a independencia entre eles."
   ]
  }
 ],
 "metadata": {
  "anaconda-cloud": {},
  "kernelspec": {
   "display_name": "Python [Root]",
   "language": "python",
   "name": "Python [Root]"
  },
  "language_info": {
   "codemirror_mode": {
    "name": "ipython",
    "version": 3
   },
   "file_extension": ".py",
   "mimetype": "text/x-python",
   "name": "python",
   "nbconvert_exporter": "python",
   "pygments_lexer": "ipython3",
   "version": "3.5.2"
  }
 },
 "nbformat": 4,
 "nbformat_minor": 0
}
